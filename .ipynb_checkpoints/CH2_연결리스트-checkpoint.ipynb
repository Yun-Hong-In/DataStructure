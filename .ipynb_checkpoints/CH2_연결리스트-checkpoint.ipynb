{
 "cells": [
  {
   "cell_type": "markdown",
   "metadata": {},
   "source": [
    "# 연결리스트\n",
    "\n",
    "### 2.1 단순연결리스트\n",
    "- 노드들을 한 방향으로 연결하여 리스트를 구현하는 자료구조 (파이썬에서는 클래스 이용)\n",
    "- 단순연결리스트에서는 삽입이나 삭제 시 항목들의 이동이 필요없다.\n",
    "- 하지만 탐색 시에는 첫 노트부터 원하는 노드를 찾을 때 까지 차례로 방문해야 한다 (순차탐색)"
   ]
  },
  {
   "cell_type": "code",
   "execution_count": null,
   "metadata": {},
   "outputs": [],
   "source": [
    "class SList:\n",
    "    "
   ]
  }
 ],
 "metadata": {
  "kernelspec": {
   "display_name": "Python 3.7.1 64-bit ('anaconda3': virtualenv)",
   "language": "python",
   "name": "python37164bitanaconda3virtualenve5f10e0a888e4b55a97f693e8969d430"
  },
  "language_info": {
   "codemirror_mode": {
    "name": "ipython",
    "version": 3
   },
   "file_extension": ".py",
   "mimetype": "text/x-python",
   "name": "python",
   "nbconvert_exporter": "python",
   "pygments_lexer": "ipython3",
   "version": "3.7.1"
  }
 },
 "nbformat": 4,
 "nbformat_minor": 2
}
