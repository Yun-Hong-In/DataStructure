{
 "cells": [
  {
   "cell_type": "markdown",
   "metadata": {},
   "source": [
    "# 스택과 큐\n",
    "\n",
    "### 3.1 스택\n",
    "- 한 쪽 끝에서만 항목을 삭제하거나 새로운 항목을 저장하는 자료구조\n",
    "- 새로운항목 저장: push\n",
    "- 항목을 삭제   : pop\n"
   ]
  },
  {
   "cell_type": "code",
   "execution_count": 4,
   "metadata": {},
   "outputs": [
    {
     "name": "stdout",
     "output_type": "stream",
     "text": [
      "사과, 오렌지, 체리  push 후:\t['apple', 'orange', 'cherry'] \t<- top\n",
      "top 항목\t\t\t: cherry\n",
      "배 push 후:\t\t['apple', 'orange', 'cherry', 'pear'] \t<- top\n",
      "pop(), 포도 push 후:\t['apple', 'orange', 'cherry', 'grape'] \t<- top\n"
     ]
    }
   ],
   "source": [
    "# 리스트로 구현\n",
    "def push(item): # insert\n",
    "    stack.append(item)\n",
    "\n",
    "def peek():     # top 항목 접근\n",
    "    if len(stack) != 0:\n",
    "        return stack[-1]\n",
    "    \n",
    "def pop():      # delete\n",
    "    if len(stack) != 0:\n",
    "        item = stack.pop()\n",
    "        return item\n",
    "    \n",
    "stack = []\n",
    "push('apple')\n",
    "push('orange')\n",
    "push('cherry')\n",
    "print('사과, 오렌지, 체리  push 후:\\t', end='')\n",
    "print(stack, '\\t<- top')\n",
    "print('top 항목\\t\\t\\t: ', end='')\n",
    "print(peek())\n",
    "push('pear')\n",
    "print('배 push 후:\\t\\t', end='')       \n",
    "print(stack, '\\t<- top')\n",
    "pop()              \n",
    "push('grape')\n",
    "print('pop(), 포도 push 후:\\t', end='')\n",
    "print(stack, '\\t<- top')"
   ]
  },
  {
   "cell_type": "code",
   "execution_count": 7,
   "metadata": {},
   "outputs": [
    {
     "name": "stdout",
     "output_type": "stream",
     "text": [
      "사과, 오렌지, 체리  push 후:\ttop -> \tcherry  -> orange  -> apple\n",
      "top 항목\t\t\t: cherry\n",
      "배 push 후:\t\ttop -> \tpear  -> cherry  -> orange  -> apple\n",
      "pop(), 포도 push 후:\ttop -> \tgrape  -> cherry  -> orange  -> apple\n"
     ]
    }
   ],
   "source": [
    "# 단순연결리스트로 구현\n",
    "class Node:\n",
    "    def __init__(self, item, link):\n",
    "        self.item = item\n",
    "        self.next = link\n",
    "        \n",
    "def push(item):\n",
    "    global top\n",
    "    global size\n",
    "    top = Node(item, top)\n",
    "    size += 1\n",
    "\n",
    "def peek():\n",
    "    if size != 0:\n",
    "        return top.item\n",
    "\n",
    "def pop():\n",
    "    global top\n",
    "    global size\n",
    "    if size != 0:\n",
    "        top_item = top.item\n",
    "        top = top.next\n",
    "        size -= 1\n",
    "        return top_item\n",
    "\n",
    "def print_stack():\n",
    "    print('top -> \\t', end=\"\")\n",
    "    p = top\n",
    "    while p:\n",
    "        if p.next != None:\n",
    "            print(p.item, \" -> \", end=\"\")\n",
    "        else:\n",
    "            print(p.item, end='')\n",
    "        p = p.next\n",
    "    print()\n",
    "    \n",
    "top = None\n",
    "size = 0\n",
    "push('apple')\n",
    "push('orange')       \n",
    "push('cherry')       \n",
    "print('사과, 오렌지, 체리  push 후:\\t', end='')\n",
    "print_stack()\n",
    "print('top 항목\\t\\t\\t: ', end='')\n",
    "print(peek())              \n",
    "push('pear') \n",
    "print('배 push 후:\\t\\t', end='')       \n",
    "print_stack()\n",
    "pop()               \n",
    "push('grape')\n",
    "print('pop(), 포도 push 후:\\t', end='')           \n",
    "print_stack()"
   ]
  },
  {
   "cell_type": "markdown",
   "metadata": {},
   "source": [
    "### 3.2 스택의 응용\n",
    "대표적인 응용으로써 **괄호 짝 맞추기**와 **회문 검사하기**가 있다\n",
    "\n",
    "#### 괄호 짝 맞추기 문제\n",
    "- 왼쪽 괄호는 스택에 push, 오른쪽 괄호는 pop을 수행한다\n",
    "- 모든 괄호를 읽은 뒤 에러가 없고 스택이 empty면 모두 짝이 맞는 것"
   ]
  },
  {
   "cell_type": "code",
   "execution_count": 32,
   "metadata": {},
   "outputs": [
    {
     "data": {
      "text/plain": [
       "False"
      ]
     },
     "execution_count": 32,
     "metadata": {},
     "output_type": "execute_result"
    }
   ],
   "source": [
    "def solution(string):\n",
    "    stack = []\n",
    "    for i in string:\n",
    "        if i == \"(\":\n",
    "            stack.append(i)\n",
    "        else:\n",
    "            t = stack.pop(-1)\n",
    "    \n",
    "    if stack:\n",
    "        return False\n",
    "    else:\n",
    "        return True\n",
    "solution(\"((()))(\")"
   ]
  },
  {
   "cell_type": "markdown",
   "metadata": {},
   "source": [
    "#### 회문 검사하기\n",
    "- 회문: 앞으로 읽으나 뒤로 읽으나 같은 문자열\n",
    "- 전반부 문자를 스택에 push, 후반부 문자와 비교하여 pop 진행"
   ]
  },
  {
   "cell_type": "code",
   "execution_count": 51,
   "metadata": {},
   "outputs": [
    {
     "name": "stdout",
     "output_type": "stream",
     "text": [
      "True\n",
      "False\n"
     ]
    }
   ],
   "source": [
    "def palindrome(string):\n",
    "    center = len(string) // 2\n",
    "    stack = []\n",
    "    for i in range(center):\n",
    "        stack.append(string[i])\n",
    "        \n",
    "    for i in range(len(string[center+1:])):\n",
    "        tmp = stack.pop()\n",
    "\n",
    "        if tmp == string[center+i+1]:\n",
    "            continue\n",
    "        else:\n",
    "            return False\n",
    "    return True\n",
    "print(palindrome(\"RACECAR\"))\n",
    "print(palindrome(\"APPLE\"))"
   ]
  },
  {
   "cell_type": "markdown",
   "metadata": {},
   "source": [
    "### 3.3 큐\n",
    "- 삽입과 삭제가 양 끝에서 각각 수행되는 자료구조\n",
    "- First In First Out  \n",
    "뒤(rear)에서는 삽입하고, 앞(front)에서는 삭제하는 연산을 수행"
   ]
  },
  {
   "cell_type": "code",
   "execution_count": 58,
   "metadata": {},
   "outputs": [
    {
     "name": "stdout",
     "output_type": "stream",
     "text": [
      "사과, 오렌지, 체리, 배 삽입 후: \tfront -> apple   orange  cherry  pear     <- rear\n",
      "remove한 후:\t\t\tfront -> orange  cherry  pear     <- rear\n",
      "remove한 후:\t\t\tfront -> cherry  pear     <- rear\n",
      "포도 삽입 후:\t\t\tfront -> cherry  pear    grape    <- rear\n"
     ]
    }
   ],
   "source": [
    "# 리스트로 구현\n",
    "def add(item):\n",
    "    q.append(item)\n",
    "    \n",
    "def remove():\n",
    "    if len(q) != 0:\n",
    "        item = q.pop(0)\n",
    "    return item\n",
    "\n",
    "def print_q():\n",
    "    print('front -> ', end='')\n",
    "    for i in range(len(q)):\n",
    "        print(\"{!s:<8}\".format(q[i]), end='')\n",
    "    print(\" <- rear\")\n",
    "    \n",
    "q = []\n",
    "add('apple')       \n",
    "add('orange')        \n",
    "add('cherry')   \n",
    "add('pear')\n",
    "print('사과, 오렌지, 체리, 배 삽입 후: \\t', end='')         \n",
    "print_q()         \n",
    "remove()\n",
    "print('remove한 후:\\t\\t\\t', end='')\n",
    "print_q()           \n",
    "remove()\n",
    "print('remove한 후:\\t\\t\\t', end='')\n",
    "print_q()           \n",
    "add('grape')\n",
    "print('포도 삽입 후:\\t\\t\\t', end='')\n",
    "print_q()"
   ]
  },
  {
   "cell_type": "code",
   "execution_count": 60,
   "metadata": {},
   "outputs": [
    {
     "name": "stdout",
     "output_type": "stream",
     "text": [
      "사과, 오렌지, 체리, 배 삽입 후: \tfront: apple  -> orange  -> cherry  -> pear : rear\n",
      "remove한 후:\t\t\tfront: orange  -> cherry  -> pear : rear\n",
      "remove한 후:\t\t\tfront: cherry  -> pear : rear\n",
      "포도 삽입 후:\t\t\tfront: cherry  -> pear  -> grape : rear\n"
     ]
    }
   ],
   "source": [
    "# 단순연결리스트 이용\n",
    "class Node:\n",
    "    def __init__(self, item, n):\n",
    "        self.item = item\n",
    "        self.next = n\n",
    "        \n",
    "def add(item):\n",
    "    global size\n",
    "    global front\n",
    "    global rear\n",
    "    new_node = Node(item, None)\n",
    "    if size == 0:\n",
    "        front = new_node       # 맨 뒤에 삽입\n",
    "    else:\n",
    "        rear.next = new_node   # 맨 뒤에 삽입\n",
    "    \n",
    "    rear = new_node\n",
    "    size += 1\n",
    "    \n",
    "def remove():\n",
    "    global size\n",
    "    global front\n",
    "    global rear\n",
    "    if size != 0:\n",
    "        fitem = front.item\n",
    "        front = front.next\n",
    "        size -= 1\n",
    "        if size == 0:\n",
    "            rear = None\n",
    "        return fitem\n",
    "    \n",
    "def print_q():\n",
    "    p = front\n",
    "    print(\"front: \", end='')\n",
    "    while p:\n",
    "        if p.next != None:\n",
    "            print(p.item, \" -> \", end='')\n",
    "        else:\n",
    "            print(p.item, end=\"\")\n",
    "        p = p.next\n",
    "    print(\" : rear\")\n",
    "    \n",
    "front = None\n",
    "rear = None\n",
    "size = 0\n",
    "\n",
    "q = []\n",
    "add('apple')       \n",
    "add('orange')        \n",
    "add('cherry')   \n",
    "add('pear')\n",
    "print('사과, 오렌지, 체리, 배 삽입 후: \\t', end='')         \n",
    "print_q()         \n",
    "remove()\n",
    "print('remove한 후:\\t\\t\\t', end='')\n",
    "print_q()           \n",
    "remove()\n",
    "print('remove한 후:\\t\\t\\t', end='')\n",
    "print_q()           \n",
    "add('grape')\n",
    "print('포도 삽입 후:\\t\\t\\t', end='')\n",
    "print_q()"
   ]
  },
  {
   "cell_type": "markdown",
   "metadata": {},
   "source": [
    "## 3.4 데크(Deque)\n",
    "- 데크는 양쪽 끝에서 삽입과 삭제를 허용하는 자료구조\n",
    "- 스택과 큐를 혼합한 자료구조라 할 수 있다\n",
    "  \n",
    "스크롤, 문서편집기 등의 undo, 웹 브라우저 방문기록 등에 사용  \n",
    "파이썬에서는 Collections 패키지에 정의되어있음"
   ]
  },
  {
   "cell_type": "code",
   "execution_count": 63,
   "metadata": {},
   "outputs": [
    {
     "name": "stdout",
     "output_type": "stream",
     "text": [
      "DATA\n",
      "deque(['k', 'd', 'a', 't', 'a', 'r'])\n",
      "a\n",
      "False\n",
      "deque(['p', 'y', 't', 'h', 'o', 'n', 'd', 'a', 't', 'a', 's', 't', 'r', 'u', 'c', 't', 'u', 'r', 'e'])\n"
     ]
    }
   ],
   "source": [
    "from collections import deque\n",
    "dq = deque('data')\n",
    "for el in dq:\n",
    "    print(el.upper(), end='')\n",
    "print()\n",
    "\n",
    "dq.append(\"r\")\n",
    "dq.appendleft(\"k\")\n",
    "print(dq)\n",
    "\n",
    "dq.pop()\n",
    "dq.popleft()\n",
    "print(dq[-1])\n",
    "print('x' in dq)\n",
    "\n",
    "dq.extend(\"structure\")\n",
    "dq.extendleft(reversed('python')) # reversed 안쓰면 p부터 앞에서 붙이기 때문에 결과는 nohtyp로 나옴\n",
    "print(dq)"
   ]
  },
  {
   "cell_type": "code",
   "execution_count": null,
   "metadata": {},
   "outputs": [],
   "source": []
  }
 ],
 "metadata": {
  "kernelspec": {
   "display_name": "Python 3.7.1 64-bit ('anaconda3': virtualenv)",
   "language": "python",
   "name": "python37164bitanaconda3virtualenve5f10e0a888e4b55a97f693e8969d430"
  },
  "language_info": {
   "codemirror_mode": {
    "name": "ipython",
    "version": 3
   },
   "file_extension": ".py",
   "mimetype": "text/x-python",
   "name": "python",
   "nbconvert_exporter": "python",
   "pygments_lexer": "ipython3",
   "version": "3.7.1"
  }
 },
 "nbformat": 4,
 "nbformat_minor": 2
}
