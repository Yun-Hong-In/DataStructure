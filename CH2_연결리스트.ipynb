{
 "cells": [
  {
   "cell_type": "markdown",
   "metadata": {},
   "source": [
    "# 연결리스트\n",
    "\n",
    "### 2.1 단순연결리스트\n",
    "- 노드들을 한 방향으로 연결하여 리스트를 구현하는 자료구조 (파이썬에서는 클래스 이용)\n",
    "- 단순연결리스트에서는 삽입이나 삭제 시 항목들의 이동이 필요없다.\n",
    "- 하지만 탐색 시에는 첫 노트부터 원하는 노드를 찾을 때 까지 차례로 방문해야 한다 (순차탐색)"
   ]
  },
  {
   "cell_type": "code",
   "execution_count": 100,
   "metadata": {},
   "outputs": [],
   "source": [
    "class SList:\n",
    "    class Node:\n",
    "        def __init__(self, item, link):\n",
    "            self.item = item\n",
    "            self.next = link\n",
    "        \n",
    "        def show(self):\n",
    "            return self.item\n",
    "    \n",
    "    def __init__(self):\n",
    "        self.head = None\n",
    "        self.size = 0\n",
    "        \n",
    "    def size(self): return self.size\n",
    "    def is_empty(self): return self.size == 0\n",
    "    \n",
    "    def insert_front(self, item):\n",
    "        if self.is_empty():\n",
    "            self.head = self.Node(item, None)\n",
    "            \n",
    "        else:\n",
    "            self.head = self.Node(item, self.head) #\n",
    "        self.size += 1\n",
    "        \n",
    "    def insert_after(self, item, p):\n",
    "        p.next = SList.Node(item, p.next)\n",
    "        self.size += 1\n",
    "        \n",
    "    def delete_front(self):\n",
    "        if self.is_empty():\n",
    "            raise EmptyError(\"Underflow\")\n",
    "        else:\n",
    "            self.head = self.head.next\n",
    "            self.size -= 1\n",
    "    \n",
    "    def delete_after(self, p):\n",
    "        if self.is_empty():\n",
    "            raise EmptyError(\"Underflow\")\n",
    "        t = p.next\n",
    "        p.next = t.next\n",
    "        self.size -= 1\n",
    "        \n",
    "    def search(self, target):\n",
    "        p = self.head\n",
    "        for k in range(self.size):\n",
    "            if target == p.item:\n",
    "                return k\n",
    "            p = p.next\n",
    "        return None\n",
    "    \n",
    "    def print_list(self):\n",
    "        p = self.head\n",
    "        while p:\n",
    "            if p.next != None:\n",
    "                print(p.item, \" -> \", end=\"\")\n",
    "            else:\n",
    "                print(p.item)\n",
    "            p = p.next\n",
    "            \n",
    "class EmptyError(Exception):\n",
    "    pass"
   ]
  },
  {
   "cell_type": "code",
   "execution_count": 4,
   "metadata": {},
   "outputs": [
    {
     "name": "stdout",
     "output_type": "stream",
     "text": [
      "pear  -> apple  -> orange  -> cherry\n",
      "cherry는 3번째\n",
      "kiwi는  None\n",
      "배 다음 노드 삭제 후: \tpear  -> orange  -> cherry\n",
      "첫 노드 삭제 후: \t\torange  -> cherry\n",
      "첫 노드로 망고, 딸기 삽입 후: strawberry  -> mango  -> orange  -> cherry\n",
      "오렌지 다음 노드 삭제 후: \tstrawberry  -> mango  -> orange\n"
     ]
    }
   ],
   "source": [
    "s = SList()\n",
    "s.insert_front(\"orange\")\n",
    "s.insert_front(\"apple\")\n",
    "s.insert_after(\"cherry\", s.head.next)\n",
    "s.insert_front(\"pear\")\n",
    "s.print_list()\n",
    "print('cherry는 %d번째' % s.search('cherry'))\n",
    "print('kiwi는 ', s.search('kiwi'))\n",
    "\n",
    "print(\"배 다음 노드 삭제 후: \\t\", end=\"\")\n",
    "s.delete_after(s.head)\n",
    "s.print_list()\n",
    "\n",
    "print(\"첫 노드 삭제 후: \\t\\t\", end=\"\")\n",
    "s.delete_front()\n",
    "s.print_list()\n",
    "\n",
    "print('첫 노드로 망고, 딸기 삽입 후: ', end=\"\")\n",
    "s.insert_front(\"mango\")\n",
    "s.insert_front(\"strawberry\")\n",
    "s.print_list()\n",
    "\n",
    "print(\"오렌지 다음 노드 삭제 후: \\t\", end=\"\")\n",
    "s.delete_after(s.head.next.next)\n",
    "s.print_list()"
   ]
  },
  {
   "cell_type": "markdown",
   "metadata": {},
   "source": [
    "#### 수행시간\n",
    "- search(): 첫 노드부터 순차탐색 -> O(N)\n",
    "- insert(), delete(): 1개의 레퍼런스만 갱신 -> O(1)  \n",
    "    하지만, 특정 노드 p의 레퍼런스가 주어지지 않으면 head로부터 p를 찾기위해 search()를 수행해야하므로 O(N)일 수도\n",
    "    \n",
    "### 2.2 이중연결리스트\n",
    "- 각 노드가 두 개의 레퍼런스를 가지고 각각 이전 노드와 다음 노드를 가리키는 연결리스트\n",
    "- 단순연결리스트의 단점을 보완  \n",
    "    역방향 탐색 불가능 / 삽입, 삭제 시 반드시 이전 노드를 가리키는 레퍼런스를 추가로 알아야함\n",
    "- 하지만 각 노드마다 1개의 레퍼런스를 추가로 저장"
   ]
  },
  {
   "cell_type": "code",
   "execution_count": 74,
   "metadata": {},
   "outputs": [],
   "source": [
    "class DList:\n",
    "    class Node:\n",
    "        def __init__(self, item, prev, link):\n",
    "            self.item = item\n",
    "            self.prev = prev\n",
    "            self.next = link\n",
    "       \n",
    "        \n",
    "    def __init__(self):\n",
    "        self.head = self.Node(None, None, None)\n",
    "        self.tail = self.Node(None, self.head, None)\n",
    "        self.head.next = self.tail\n",
    "        self.size = 0\n",
    "        \n",
    "    def size(self): return self.size\n",
    "    def is_empty(self): return self.size == 0\n",
    "    \n",
    "    def insert_before(self, p, item):\n",
    "        t = p.prev\n",
    "        n = self.Node(item, t, p)\n",
    "        p.prev = n\n",
    "        t.next = n\n",
    "        self.size += 1\n",
    "    \n",
    "    def insert_after(self, p, item):\n",
    "        t = p.next\n",
    "        n = self.Node(item, p, t)\n",
    "        t.prev = n\n",
    "        p.next = n\n",
    "        self.size += 1\n",
    "        \n",
    "    def delete(self, x):\n",
    "        f = x.prev\n",
    "        r = x.next\n",
    "        f.next = r\n",
    "        r.prev = f\n",
    "        self.size -= 1\n",
    "        return x.item\n",
    "    \n",
    "    def search(self, target):\n",
    "        p = self.head\n",
    "        for k in range(self.size):\n",
    "            if target == p.item:\n",
    "                return k\n",
    "            p = p.next\n",
    "    \n",
    "    def print_list(self):\n",
    "        if self.is_empty():\n",
    "            print(\"List is empty\")\n",
    "        else:\n",
    "            p = self.head.next\n",
    "            while p != self.tail:\n",
    "                if p.next != self.tail:\n",
    "                    print(p.item, ' <=> ', end='')\n",
    "                else:\n",
    "                    print(p.item)\n",
    "                p = p.next\n",
    "\n",
    "class EmptyError(Exception):\n",
    "    pass\n",
    "        "
   ]
  },
  {
   "cell_type": "code",
   "execution_count": 75,
   "metadata": {},
   "outputs": [
    {
     "name": "stdout",
     "output_type": "stream",
     "text": [
      "apple  <=> pear  <=> orange  <=> cherry\n",
      "4\n",
      "마지막 노드 삭제 후: \tapple  <=> pear  <=> orange\n",
      "맨 끝에 포토 삽입 후: \tapple  <=> pear  <=> orange  <=> grape\n",
      "첫 노드 삭제 후: \t\tpear  <=> orange  <=> grape\n",
      "첫 노드 삭제 후: \t\torange  <=> grape\n",
      "첫 노드 삭제 후: \t\tgrape\n",
      "첫 노드 삭제 후: \t\tList is empty\n"
     ]
    }
   ],
   "source": [
    "s = DList()\n",
    "s.insert_after(s.head, 'apple')\n",
    "s.insert_before(s.tail, 'orange')\n",
    "s.insert_before(s.tail, 'cherry')\n",
    "s.insert_after(s.head.next, 'pear')\n",
    "s.print_list()\n",
    "print(s.size)\n",
    "#print('pear %d번째' % s.search('cherry'))\n",
    "\n",
    "print(\"마지막 노드 삭제 후: \\t\", end=\"\")\n",
    "s.delete(s.tail.prev)\n",
    "s.print_list()\n",
    "\n",
    "print(\"맨 끝에 포토 삽입 후: \\t\", end='')\n",
    "s.insert_before(s.tail, 'grape')\n",
    "s.print_list()\n",
    "\n",
    "print('첫 노드 삭제 후: \\t\\t', end='')\n",
    "s.delete(s.head.next)\n",
    "s.print_list()\n",
    "print('첫 노드 삭제 후: \\t\\t', end='')\n",
    "s.delete(s.head.next)\n",
    "s.print_list()\n",
    "print('첫 노드 삭제 후: \\t\\t', end='')\n",
    "s.delete(s.head.next)\n",
    "s.print_list()\n",
    "print('첫 노드 삭제 후: \\t\\t', end='')\n",
    "s.delete(s.head.next)\n",
    "s.print_list()"
   ]
  },
  {
   "cell_type": "markdown",
   "metadata": {},
   "source": [
    "#### 수행시간\n",
    "- search(): 첫 노드부터 순차탐색 -> O(N)\n",
    "- insert(), delete(): 1개의 레퍼런스만 갱신 -> O(1)  \n",
    "\n",
    "### 2.3 원형연결리스트\n",
    "- 마지막 노드가 첫 노드와 연결된 단순연결리스트"
   ]
  },
  {
   "cell_type": "code",
   "execution_count": 76,
   "metadata": {},
   "outputs": [],
   "source": [
    "class CList:\n",
    "    class _Node:\n",
    "        def __init__(self, item, link):\n",
    "            self.item = item\n",
    "            self.next = link\n",
    "        \n",
    "    def __init__(self):\n",
    "        self.last = None\n",
    "        self.size = 0\n",
    "        \n",
    "    def no_items(self): return self.size\n",
    "    def is_empty(self): return self.size == 0\n",
    "    \n",
    "    def insert(self, item):\n",
    "        n = self._Node(item, None)\n",
    "        if self.is_empty():\n",
    "            n.next = n\n",
    "            self.last = n\n",
    "        else:\n",
    "            n.next = self.last.next\n",
    "            self.last.next = n\n",
    "        self.size += 1\n",
    "        \n",
    "    def first(self):\n",
    "        if self.is_empty():\n",
    "            raise EmptyError('UnderFlow')\n",
    "        f = self.last.next\n",
    "        return f.item\n",
    "    \n",
    "    def delete(self):\n",
    "        if self.is_empty():\n",
    "            raise EmptyError('UnderFlow')\n",
    "        x = self.last.next\n",
    "        if self.size == 1:\n",
    "            self.last = None\n",
    "        else:\n",
    "            self.last.next = x.next\n",
    "        self.size -= 1\n",
    "        return x.item\n",
    "    \n",
    "    def print_list(self):\n",
    "        if self.is_empty():\n",
    "            print(\"List is Empty\")\n",
    "        else:\n",
    "            f = self.last.next\n",
    "            p = f\n",
    "            while p.next != f:\n",
    "                print(p.item, ' -> ', end='')\n",
    "                p = p.next\n",
    "            print(p.item)\n",
    "            \n",
    "class EmptyError(Exception):\n",
    "    pass"
   ]
  },
  {
   "cell_type": "code",
   "execution_count": 77,
   "metadata": {},
   "outputs": [
    {
     "name": "stdout",
     "output_type": "stream",
     "text": [
      "apple  -> orange  -> cherry  -> pear\n",
      "s의 길이 = 4\n",
      "s의 첫 항목 : apple\n",
      "첫 노드 삭제 후: orange  -> cherry  -> pear\n",
      "s의 길이 = 3\n",
      "s의 첫 항목 : orange\n",
      "첫 노드 삭제 후: cherry  -> pear\n",
      "첫 노드 삭제 후: pear\n",
      "첫 노드 삭제 후: List is Empty\n"
     ]
    }
   ],
   "source": [
    "s = CList()\n",
    "s.insert('pear')\n",
    "s.insert('cherry')\n",
    "s.insert('orange')\n",
    "s.insert('apple') \n",
    "s.print_list()\n",
    "print('s의 길이 =', s.no_items()) \n",
    "print('s의 첫 항목 :', s.first())\n",
    "s.delete() \n",
    "print('첫 노드 삭제 후: ', end='')\n",
    "s.print_list()\n",
    "print('s의 길이 =', s.no_items()) \n",
    "print('s의 첫 항목 :', s.first()) \n",
    "s.delete() \n",
    "print('첫 노드 삭제 후: ', end='')\n",
    "s.print_list()\n",
    "s.delete() \n",
    "print('첫 노드 삭제 후: ', end='')\n",
    "s.print_list()\n",
    "s.delete() \n",
    "print('첫 노드 삭제 후: ', end='')\n",
    "s.print_list()"
   ]
  },
  {
   "cell_type": "markdown",
   "metadata": {},
   "source": [
    "### 연습문제"
   ]
  },
  {
   "cell_type": "code",
   "execution_count": 97,
   "metadata": {},
   "outputs": [
    {
     "name": "stdout",
     "output_type": "stream",
     "text": [
      "1  -> 2  -> 5  -> 6\n",
      "3  -> 4  -> 7  -> 8\n"
     ]
    }
   ],
   "source": [
    "# 2.7\n",
    "s = SList()\n",
    "s.insert_front(5)\n",
    "s.insert_front(2)\n",
    "s.insert_after(6, s.head.next)\n",
    "s.insert_front(1)\n",
    "s.print_list()\n",
    "\n",
    "q = SList()\n",
    "q.insert_front(7)\n",
    "q.insert_front(4)\n",
    "q.insert_after(8, q.head.next)\n",
    "q.insert_front(3)\n",
    "q.print_list()"
   ]
  },
  {
   "cell_type": "code",
   "execution_count": 109,
   "metadata": {},
   "outputs": [
    {
     "name": "stdout",
     "output_type": "stream",
     "text": [
      "3\n",
      "1\n",
      "2\n",
      "5\n",
      "6\n",
      "4\n",
      "1\n",
      "2\n",
      "5\n",
      "6\n",
      "7\n",
      "1\n",
      "2\n",
      "5\n",
      "6\n",
      "8\n",
      "1\n",
      "2\n",
      "5\n",
      "6\n"
     ]
    }
   ],
   "source": [
    "# 2.7\n",
    "def solution(a, b):\n",
    "    p = b.head\n",
    "    k = a.head\n",
    "    for i in range(b.size):\n",
    "        p.show()\n",
    "        k = a.head\n",
    "        for j in range(a.size):    \n",
    "            k.show()\n",
    "            if k.\n",
    "            k = k.next\n",
    "        p = p.next\n",
    "solution(s, q)                "
   ]
  },
  {
   "cell_type": "code",
   "execution_count": 83,
   "metadata": {},
   "outputs": [
    {
     "name": "stdout",
     "output_type": "stream",
     "text": [
      "3\n"
     ]
    }
   ],
   "source": [
    "s.head.next.show()"
   ]
  },
  {
   "cell_type": "code",
   "execution_count": null,
   "metadata": {},
   "outputs": [],
   "source": []
  }
 ],
 "metadata": {
  "kernelspec": {
   "display_name": "Python 3.7.1 64-bit ('anaconda3': virtualenv)",
   "language": "python",
   "name": "python37164bitanaconda3virtualenve5f10e0a888e4b55a97f693e8969d430"
  },
  "language_info": {
   "codemirror_mode": {
    "name": "ipython",
    "version": 3
   },
   "file_extension": ".py",
   "mimetype": "text/x-python",
   "name": "python",
   "nbconvert_exporter": "python",
   "pygments_lexer": "ipython3",
   "version": "3.7.1"
  }
 },
 "nbformat": 4,
 "nbformat_minor": 2
}
