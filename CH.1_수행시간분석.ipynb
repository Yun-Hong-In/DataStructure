{
 "cells": [
  {
   "cell_type": "code",
   "execution_count": 1,
   "metadata": {},
   "outputs": [],
   "source": [
    "def f(N):\n",
    "    print(N, end=\" \")\n",
    "    if N > 0:\n",
    "        f(N-1)"
   ]
  },
  {
   "cell_type": "code",
   "execution_count": 2,
   "metadata": {},
   "outputs": [
    {
     "name": "stdout",
     "output_type": "stream",
     "text": [
      "4 3 2 1 0 "
     ]
    }
   ],
   "source": [
    "f(4)"
   ]
  },
  {
   "cell_type": "code",
   "execution_count": 3,
   "metadata": {},
   "outputs": [
    {
     "name": "stdout",
     "output_type": "stream",
     "text": [
      "0 1 2 3 4 "
     ]
    }
   ],
   "source": [
    "def f(N):\n",
    "    if N > 0:\n",
    "        f(N-1)\n",
    "    print(N, end=\" \")\n",
    "f(4)"
   ]
  },
  {
   "cell_type": "code",
   "execution_count": 5,
   "metadata": {},
   "outputs": [
    {
     "name": "stdout",
     "output_type": "stream",
     "text": [
      "4\n",
      "2\n",
      "0\n",
      "0 2 4 "
     ]
    }
   ],
   "source": [
    "def h(N):\n",
    "    print(N)\n",
    "    if N > 0:\n",
    "        h(N-2)\n",
    "    print(N, end=\" \")\n",
    "h(4)"
   ]
  },
  {
   "cell_type": "code",
   "execution_count": 6,
   "metadata": {},
   "outputs": [
    {
     "name": "stdout",
     "output_type": "stream",
     "text": [
      "1 2 3 4 "
     ]
    }
   ],
   "source": [
    "def h(N):\n",
    "    if N > 0:\n",
    "        h(N-1)\n",
    "        print(N, end=\" \")\n",
    "h(4)"
   ]
  },
  {
   "cell_type": "code",
   "execution_count": 7,
   "metadata": {},
   "outputs": [
    {
     "name": "stdout",
     "output_type": "stream",
     "text": [
      "* * * 1 0 0 "
     ]
    }
   ],
   "source": [
    "def abc(N):\n",
    "    r = N % 2\n",
    "    print(\"*\", end=\" \")\n",
    "    if N >= 2:\n",
    "        abc(N // 2)\n",
    "    print(\"%d\" % r, end=\" \")\n",
    "    return\n",
    "abc(4)"
   ]
  },
  {
   "cell_type": "code",
   "execution_count": null,
   "metadata": {},
   "outputs": [],
   "source": [
    "def test(s, last):\n",
    "    if last < 0:\n",
    "        return 0\n",
    "    if s[-1] == '0':\n",
    "        return 2 * test(s, last-1)\n",
    "    return 1 + 2 * test(s, last-1)\n",
    "\n",
    "test('110100111', 4)"
   ]
  },
  {
   "cell_type": "code",
   "execution_count": 12,
   "metadata": {},
   "outputs": [
    {
     "name": "stdout",
     "output_type": "stream",
     "text": [
      "1 1 0 "
     ]
    }
   ],
   "source": [
    "def t(N):\n",
    "    if N > 0:\n",
    "        t(N // 2)\n",
    "        print(N % 2, end=\" \")\n",
    "t(6)"
   ]
  },
  {
   "cell_type": "code",
   "execution_count": 16,
   "metadata": {},
   "outputs": [
    {
     "data": {
      "text/plain": [
       "1024"
      ]
     },
     "execution_count": 16,
     "metadata": {},
     "output_type": "execute_result"
    }
   ],
   "source": [
    "# x^m을 계산하는 함수\n",
    "def power(x, m):\n",
    "    start = 1\n",
    "    if m == 0:\n",
    "        return 1\n",
    "    else:\n",
    "        start = x * power(x, m-1)\n",
    "    return start\n",
    "power(2, 10)"
   ]
  },
  {
   "cell_type": "code",
   "execution_count": 20,
   "metadata": {},
   "outputs": [],
   "source": [
    "# 하노이의 탑\n",
    "def hanoi(num, start, to, mid, answer): # num: number of plates\n",
    "    if num == 1:\n",
    "        return answer.append([start, to])\n",
    "    hanoi(num-1, start, mid, to, answer)\n",
    "    answer.append([start, to])\n",
    "    hanoi(num-1, mid, to, start, answer)\n",
    "def solution(n):\n",
    "    answer = []\n",
    "    hanoi(n, 1, 3, 2, answer)\n",
    "    return answer"
   ]
  },
  {
   "cell_type": "code",
   "execution_count": 23,
   "metadata": {},
   "outputs": [
    {
     "data": {
      "text/plain": [
       "1023"
      ]
     },
     "execution_count": 23,
     "metadata": {},
     "output_type": "execute_result"
    }
   ],
   "source": [
    "len(solution(10))"
   ]
  },
  {
   "cell_type": "code",
   "execution_count": null,
   "metadata": {},
   "outputs": [],
   "source": []
  }
 ],
 "metadata": {
  "kernelspec": {
   "display_name": "Python 3.7.1 64-bit ('anaconda3': virtualenv)",
   "language": "python",
   "name": "python37164bitanaconda3virtualenve5f10e0a888e4b55a97f693e8969d430"
  },
  "language_info": {
   "codemirror_mode": {
    "name": "ipython",
    "version": 3
   },
   "file_extension": ".py",
   "mimetype": "text/x-python",
   "name": "python",
   "nbconvert_exporter": "python",
   "pygments_lexer": "ipython3",
   "version": "3.7.1"
  }
 },
 "nbformat": 4,
 "nbformat_minor": 2
}
